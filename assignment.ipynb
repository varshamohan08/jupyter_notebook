{
 "cells": [
  {
   "cell_type": "markdown",
   "id": "476b265d-973c-436f-b67c-9c75f9c4a4a0",
   "metadata": {
    "tags": []
   },
   "source": [
    "# Data Science Notebook"
   ]
  },
  {
   "cell_type": "markdown",
   "id": "1c0b279f-3661-4096-808a-74eb4e094713",
   "metadata": {},
   "source": [
    "## Introduction\n",
    "\n",
    "Welcome to this Data Science Notebook!"
   ]
  },
  {
   "cell_type": "markdown",
   "id": "41c87128-44aa-4e2e-909c-ee30ebdc65c1",
   "metadata": {},
   "source": [
    "## Data Science Languages\n",
    "\n",
    "- Python\n",
    "- R\n",
    "- Julia\n"
   ]
  },
  {
   "cell_type": "markdown",
   "id": "ccf35884-84f5-4ede-b276-aadec2b0eb94",
   "metadata": {},
   "source": [
    "## Data Science Libraries\n",
    "\n",
    "- Pandas\n",
    "- NumPy\n",
    "- Scikit-learn\n"
   ]
  },
  {
   "cell_type": "markdown",
   "id": "389bba1e-43c4-4a8b-a310-5b80df9835f6",
   "metadata": {},
   "source": [
    "## Data Science Tools\n",
    "\n",
    "| Tool          | Description                           |\n",
    "|---------------|---------------------------------------|\n",
    "| Jupyter       | Interactive computing environment     |\n",
    "| TensorFlow    | Machine learning framework            |\n",
    "| Matplotlib    | Data visualization library            |\n"
   ]
  },
  {
   "cell_type": "markdown",
   "id": "8af00e15-c63e-43f9-81ca-4d2a8cbc9c9c",
   "metadata": {},
   "source": [
    "## Arithmetic Expression Examples\n",
    "\n",
    "Let's explore some arithmetic expressions.\n"
   ]
  },
  {
   "cell_type": "code",
   "execution_count": 5,
   "id": "e70f158b-6288-4bae-af7f-9d4b1e603ead",
   "metadata": {
    "tags": []
   },
   "outputs": [
    {
     "name": "stdout",
     "output_type": "stream",
     "text": [
      "15\n",
      "8\n"
     ]
    }
   ],
   "source": [
    "# Multiply and add numbers\n",
    "a = 5\n",
    "b = 3\n",
    "\n",
    "print(a*b)\n",
    "print(a+b)"
   ]
  },
  {
   "cell_type": "code",
   "execution_count": 6,
   "id": "d2f80cde-1ddc-4d0b-a485-197b6be87996",
   "metadata": {
    "tags": []
   },
   "outputs": [
    {
     "name": "stdout",
     "output_type": "stream",
     "text": [
      "120 minutes is equal to 2.0 hours.\n"
     ]
    }
   ],
   "source": [
    "# Convert minutes to hours\n",
    "minutes = 120\n",
    "hours = minutes / 60\n",
    "print(\"120 minutes is equal to\", hours, \"hours.\")\n"
   ]
  },
  {
   "cell_type": "markdown",
   "id": "6459f70e-a0e2-48ed-8368-9caa0beaa8bf",
   "metadata": {},
   "source": [
    "## Objectives\n",
    "\n",
    "- run markdown and code in jupyter notebook\n",
    "- creating github repo\n"
   ]
  },
  {
   "cell_type": "markdown",
   "id": "29d316b2-29d3-4017-8977-cac9d6e1ee98",
   "metadata": {
    "tags": []
   },
   "source": [
    "## Author\n",
    "\n",
    "Varsha Mohan\n"
   ]
  },
  {
   "cell_type": "code",
   "execution_count": null,
   "id": "628eaebf-3ea1-407b-a618-1ad70f0d46d5",
   "metadata": {},
   "outputs": [],
   "source": []
  }
 ],
 "metadata": {
  "kernelspec": {
   "display_name": "Python",
   "language": "python",
   "name": "conda-env-python-py"
  },
  "language_info": {
   "codemirror_mode": {
    "name": "ipython",
    "version": 3
   },
   "file_extension": ".py",
   "mimetype": "text/x-python",
   "name": "python",
   "nbconvert_exporter": "python",
   "pygments_lexer": "ipython3",
   "version": "3.7.12"
  }
 },
 "nbformat": 4,
 "nbformat_minor": 5
}
